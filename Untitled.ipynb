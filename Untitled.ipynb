{
 "cells": [
  {
   "cell_type": "code",
   "execution_count": 1,
   "metadata": {},
   "outputs": [],
   "source": [
    "import pandas as pd"
   ]
  },
  {
   "cell_type": "code",
   "execution_count": 19,
   "metadata": {},
   "outputs": [],
   "source": [
    "import matplotlib.pyplot as plt\n",
    "import json\n",
    "from tqdm import tqdm_notebook"
   ]
  },
  {
   "cell_type": "code",
   "execution_count": 103,
   "metadata": {},
   "outputs": [],
   "source": [
    "data = pd.read_csv('data/base/stories_description.csv', encoding=\"utf8\")"
   ]
  },
  {
   "cell_type": "code",
   "execution_count": 104,
   "metadata": {},
   "outputs": [
    {
     "data": {
      "text/html": [
       "<div>\n",
       "<style scoped>\n",
       "    .dataframe tbody tr th:only-of-type {\n",
       "        vertical-align: middle;\n",
       "    }\n",
       "\n",
       "    .dataframe tbody tr th {\n",
       "        vertical-align: top;\n",
       "    }\n",
       "\n",
       "    .dataframe thead th {\n",
       "        text-align: right;\n",
       "    }\n",
       "</style>\n",
       "<table border=\"1\" class=\"dataframe\">\n",
       "  <thead>\n",
       "    <tr style=\"text-align: right;\">\n",
       "      <th></th>\n",
       "      <th>story_id</th>\n",
       "      <th>story_json</th>\n",
       "    </tr>\n",
       "  </thead>\n",
       "  <tbody>\n",
       "    <tr>\n",
       "      <th>0</th>\n",
       "      <td>127</td>\n",
       "      <td>{\"guid\":\"770a5bae-0e3f-4a6b-b924-bd87bd51a038\"...</td>\n",
       "    </tr>\n",
       "    <tr>\n",
       "      <th>1</th>\n",
       "      <td>254</td>\n",
       "      <td>{\"guid\":\"64f4c9ef-647b-4e04-b4d4-02297e939388\"...</td>\n",
       "    </tr>\n",
       "    <tr>\n",
       "      <th>2</th>\n",
       "      <td>865</td>\n",
       "      <td>{\"guid\":\"3482206b-d223-4aec-92ba-0150055cd68a\"...</td>\n",
       "    </tr>\n",
       "    <tr>\n",
       "      <th>3</th>\n",
       "      <td>1491</td>\n",
       "      <td>{\"guid\":\"5f4a9215-01de-4777-b70f-a18899db8f1c\"...</td>\n",
       "    </tr>\n",
       "    <tr>\n",
       "      <th>4</th>\n",
       "      <td>598</td>\n",
       "      <td>{\"guid\":\"ed8754bd-67be-4fa1-9289-5508d96f1fa4\"...</td>\n",
       "    </tr>\n",
       "  </tbody>\n",
       "</table>\n",
       "</div>"
      ],
      "text/plain": [
       "   story_id                                         story_json\n",
       "0       127  {\"guid\":\"770a5bae-0e3f-4a6b-b924-bd87bd51a038\"...\n",
       "1       254  {\"guid\":\"64f4c9ef-647b-4e04-b4d4-02297e939388\"...\n",
       "2       865  {\"guid\":\"3482206b-d223-4aec-92ba-0150055cd68a\"...\n",
       "3      1491  {\"guid\":\"5f4a9215-01de-4777-b70f-a18899db8f1c\"...\n",
       "4       598  {\"guid\":\"ed8754bd-67be-4fa1-9289-5508d96f1fa4\"..."
      ]
     },
     "execution_count": 104,
     "metadata": {},
     "output_type": "execute_result"
    }
   ],
   "source": [
    "data.head()"
   ]
  },
  {
   "cell_type": "code",
   "execution_count": 105,
   "metadata": {},
   "outputs": [
    {
     "data": {
      "text/plain": [
       "'{\"guid\":\"3482206b-d223-4aec-92ba-0150055cd68a\",\"type\":\"root\",\"properties\":{\"name\":\"Тинькофф Инвестиции 2.0\",\"background\":{\"gradient\":{\"colors\":[],\"direction\":\"vertical\"},\"blur\":false},\"icon_background\":{\"image_url\":\"https://static2.tinkoff.ru/portfolio/stories/images/investicii_11-05_zahod.jpg\",\"gradient\":{\"colors\":[{\"hex\":\"#000000\",\"alpha\":0},{\"hex\":\"#000000\",\"alpha\":0.6}],\"direction\":\"vertical\"},\"blur\":false},\"hide_page_status\":false},\"content\":[{\"guid\":\"d59e8f2b-f41c-4943-bfb4-9ecd9a14b4fa\",\"type\":\"story-page\",\"properties\":{\"topMask\":false,\"bottomMask\":false,\"flip_interval\":10,\"background\":{\"image_url\":\"https://static2.tinkoff.ru/portfolio/stories/images/investicii_11-05_zahod.jpg\",\"gradient\":{\"colors\":[{\"hex\":\"#000000\",\"alpha\":0.6},{\"hex\":\"#000000\",\"alpha\":0},{\"hex\":\"#000000\",\"alpha\":0},{\"hex\":\"#000000\",\"alpha\":0},{\"hex\":\"#000000\",\"alpha\":0},{\"hex\":\"#000000\",\"alpha\":0},{\"hex\":\"#000000\",\"alpha\":0},{\"hex\":\"#000000\",\"alpha\":0},{\"hex\":\"#000000\",\"alpha\":0},{\"hex\":\"#000000\",\"alpha\":0}],\"direction\":\"vertical\"},\"blur\":false},\"hidden\":\"false\",\"disable_tap_zones\":false,\"log_view\":true},\"content\":[{\"guid\":\"787094fd-2b42-414b-a73e-c3adaecb0603\",\"type\":\"layout-linear\",\"properties\":{\"orientation\":\"vertical\",\"topMask\":false,\"bottomMask\":false,\"background\":{\"gradient\":{\"colors\":[{\"hex\":\"#000000\",\"alpha\":0},{\"hex\":\"#000000\",\"alpha\":0.6},{\"hex\":\"#000000\",\"alpha\":0.8}],\"direction\":\"vertical\"},\"blur\":false},\"hidden\":\"false\",\"type\":\"grouped\",\"size\":{\"height\":{\"value\":0,\"units\":\"pixels\"},\"width\":{\"value\":0,\"units\":\"pixels\"}},\"padding\":{\"top\":\"128\",\"bottom\":0,\"left\":\"16\",\"right\":\"16\"},\"margin\":{\"top\":0,\"bottom\":0,\"left\":0,\"right\":0},\"corner_radius\":{\"value\":0,\"units\":\"pixels\"},\"border\":{\"width\":0},\"alignment\":\"trailing\"},\"content\":[{\"guid\":\"bc239a88-c2fe-4e75-bed3-40565e78ba8f\",\"type\":\"layout-linear\",\"properties\":{\"orientation\":\"horizontal\",\"topMask\":false,\"bottomMask\":false,\"background\":{\"gradient\":{\"colors\":[]},\"blur\":false},\"hidden\":\"false\",\"type\":\"grouped\",\"template_name\":\"text\",\"size\":{\"height\":{\"value\":0,\"units\":\"pixels\"},\"width\":{\"value\":0,\"units\":\"pixels\"}},\"padding\":{\"top\":0,\"bottom\":\"0\",\"left\":0,\"right\":0},\"margin\":{\"top\":0,\"bottom\":\"16\",\"left\":0,\"right\":0},\"corner_radius\":{\"value\":0,\"units\":\"pixels\"},\"border\":{\"width\":0}},\"content\":[{\"guid\":\"3a786e3e-364b-4e39-9712-52b8ab010ae1\",\"type\":\"label\",\"properties\":{\"text\":\"Тинькофф Инвестиции\\xa02.0\",\"font_size\":36,\"font_type\":\"bold\",\"font_color\":{\"hex\":\"#ffffff\",\"alpha\":1},\"alignment\":\"leading\",\"corner_radius\":{\"value\":0,\"units\":\"pixels\"},\"background\":{\"gradient\":{\"colors\":[],\"direction\":\"diagonal\"},\"blur\":false},\"size\":{\"height\":{\"value\":0,\"units\":\"pixels\"},\"width\":{\"value\":0,\"units\":\"pixels\"}},\"padding\":{\"top\":0,\"bottom\":0,\"left\":0,\"right\":0},\"margin\":{\"top\":\"0\",\"bottom\":\"0\",\"left\":\"0\",\"right\":\"0\"},\"border\":{\"width\":0}}}]},{\"guid\":\"a637a8b0-0229-4832-b2ae-305fed78e28d\",\"type\":\"layout-linear\",\"properties\":{\"orientation\":\"horizontal\",\"topMask\":false,\"bottomMask\":false,\"background\":{\"gradient\":{\"colors\":[]},\"blur\":false},\"hidden\":\"false\",\"type\":\"grouped\",\"template_name\":\"text\",\"size\":{\"height\":{\"value\":0,\"units\":\"pixels\"},\"width\":{\"value\":0,\"units\":\"pixels\"}},\"padding\":{\"top\":0,\"bottom\":0,\"left\":0,\"right\":0},\"margin\":{\"top\":0,\"bottom\":\"0\",\"left\":0,\"right\":0},\"corner_radius\":{\"value\":0,\"units\":\"pixels\"},\"border\":{\"width\":0}},\"content\":[{\"guid\":\"d8e07dcc-5c7f-4d56-8811-f2c1a8bf0e87\",\"type\":\"label\",\"properties\":{\"text\":\"У нас хорошие новости для\\xa0тех, кто\\xa0никак не\\xa0мог решиться инвестировать\",\"font_size\":17,\"font_type\":\"normal\",\"font_color\":{\"hex\":\"#ffffff\",\"alpha\":1},\"alignment\":\"leading\",\"corner_radius\":{\"value\":0,\"units\":\"pixels\"},\"background\":{\"gradient\":{\"colors\":[],\"direction\":\"diagonal\"},\"blur\":false},\"size\":{\"height\":{\"value\":0,\"units\":\"pixels\"},\"width\":{\"value\":0,\"units\":\"pixels\"}},\"padding\":{\"top\":0,\"bottom\":0,\"left\":0,\"right\":0},\"margin\":{\"top\":0,\"bottom\":\"32\",\"left\":\"0\",\"right\":\"0\"},\"border\":{\"width\":0}}}]}]}]},{\"guid\":\"c2f06a50-b6cd-4c8f-bed4-2e6fac0cfb91\",\"type\":\"story-page\",\"description\":\"1\",\"properties\":{\"topMask\":false,\"bottomMask\":false,\"flip_interval\":20,\"background\":{\"image_url\":\"https://static2.tinkoff.ru/portfolio/stories/images/investicii_11-05_1.jpg\",\"gradient\":{\"colors\":[{\"hex\":\"#000000\",\"alpha\":0.6},{\"hex\":\"#000000\",\"alpha\":0},{\"hex\":\"#000000\",\"alpha\":0},{\"hex\":\"#000000\",\"alpha\":0},{\"hex\":\"#000000\",\"alpha\":0},{\"hex\":\"#000000\",\"alpha\":0},{\"hex\":\"#000000\",\"alpha\":0},{\"hex\":\"#000000\",\"alpha\":0},{\"hex\":\"#000000\",\"alpha\":0},{\"hex\":\"#000000\",\"alpha\":0}],\"direction\":\"vertical\"},\"blur\":false},\"hidden\":\"false\",\"disable_tap_zones\":false,\"log_view\":true},\"content\":[{\"guid\":\"82303ef1-2367-41a0-bada-d3dc656da1b0\",\"type\":\"layout-linear\",\"properties\":{\"orientation\":\"vertical\",\"topMask\":false,\"bottomMask\":false,\"background\":{\"gradient\":{\"colors\":[{\"hex\":\"#010101\",\"alpha\":0},{\"hex\":\"#000000\",\"alpha\":0.6},{\"hex\":\"#000000\",\"alpha\":0.8}],\"direction\":\"vertical\"},\"blur\":false},\"hidden\":\"false\",\"type\":\"grouped\",\"size\":{\"height\":{\"value\":0,\"units\":\"pixels\"},\"width\":{\"value\":0,\"units\":\"pixels\"}},\"padding\":{\"top\":\"128\",\"bottom\":32,\"left\":\"16\",\"right\":\"16\"},\"margin\":{\"top\":0,\"bottom\":0,\"left\":0,\"right\":0},\"corner_radius\":{\"value\":0,\"units\":\"pixels\"},\"border\":{\"width\":0},\"alignment\":\"trailing\"},\"content\":[{\"guid\":\"f73eed2f-efc2-45ce-b237-51d080ac600b\",\"type\":\"layout-linear\",\"description\":\"заголовок\",\"properties\":{\"orientation\":\"horizontal\",\"topMask\":false,\"bottomMask\":false,\"background\":{\"gradient\":{\"colors\":[]},\"blur\":false},\"hidden\":\"false\",\"type\":\"grouped\",\"template_name\":\"text\",\"size\":{\"height\":{\"value\":0,\"units\":\"pixels\"},\"width\":{\"value\":0,\"units\":\"pixels\"}},\"padding\":{\"top\":0,\"bottom\":\"0\",\"left\":0,\"right\":0},\"margin\":{\"top\":0,\"bottom\":\"0\",\"left\":0,\"right\":0},\"corner_radius\":{\"value\":0,\"units\":\"pixels\"},\"border\":{\"width\":0}},\"content\":[{\"guid\":\"7ce1547d-86ca-4ee3-b576-ffa0d7f79ff4\",\"type\":\"label\",\"properties\":{\"text\":\"Что случилось\",\"font_size\":22,\"font_type\":\"bold\",\"font_color\":{\"hex\":\"#ffffff\",\"alpha\":1},\"alignment\":\"leading\",\"template_identifier\":\"text_label\",\"corner_radius\":{\"value\":0,\"units\":\"pixels\"},\"background\":{\"gradient\":{\"colors\":[],\"direction\":\"diagonal\"},\"blur\":false},\"size\":{\"height\":{\"value\":0,\"units\":\"pixels\"},\"width\":{\"value\":0,\"units\":\"pixels\"}},\"padding\":{\"top\":0,\"bottom\":0,\"left\":0,\"right\":0},\"margin\":{\"top\":\"0\",\"bottom\":\"0\",\"left\":\"0\",\"right\":\"0\"},\"border\":{\"width\":0}}}]},{\"guid\":\"b80fdd62-5399-4505-b95d-674b8808267a\",\"type\":\"layout-linear\",\"description\":\"описание\",\"properties\":{\"orientation\":\"horizontal\",\"topMask\":false,\"bottomMask\":false,\"background\":{\"gradient\":{\"colors\":[]},\"blur\":false},\"hidden\":\"false\",\"type\":\"grouped\",\"template_name\":\"text\",\"size\":{\"height\":{\"value\":0,\"units\":\"pixels\"},\"width\":{\"value\":0,\"units\":\"pixels\"}},\"padding\":{\"top\":0,\"bottom\":0,\"left\":0,\"right\":0},\"margin\":{\"top\":8,\"bottom\":\"0\",\"left\":0,\"right\":0},\"corner_radius\":{\"value\":0,\"units\":\"pixels\"},\"border\":{\"width\":0}},\"content\":[{\"guid\":\"d6d30d7d-c965-4778-86a6-573b2c465fa0\",\"type\":\"label\",\"properties\":{\"text\":\"Тинькофф Банк получил лицензию брокера — и\\xa0теперь открывает счета на\\xa0бирже сам. Это\\xa0значит, что с\\xa015\\xa0мая Тинькофф Инвестиции стали еще удобнее. \",\"font_size\":17,\"font_type\":\"normal\",\"font_color\":{\"hex\":\"#ffffff\",\"alpha\":1},\"alignment\":\"leading\",\"template_identifier\":\"text_label\",\"corner_radius\":{\"value\":0,\"units\":\"pixels\"},\"background\":{\"gradient\":{\"colors\":[],\"direction\":\"diagonal\"},\"blur\":false},\"size\":{\"height\":{\"value\":0,\"units\":\"pixels\"},\"width\":{\"value\":0,\"units\":\"pixels\"}},\"padding\":{\"top\":0,\"bottom\":0,\"left\":0,\"right\":0},\"margin\":{\"top\":0,\"bottom\":0,\"left\":\"0\",\"right\":\"0\"},\"border\":{\"width\":0}}}]}]}]},{\"guid\":\"5db674a2-b4b0-41d3-a357-8937957cf423\",\"type\":\"story-page\",\"description\":\"комиссия\",\"properties\":{\"topMask\":false,\"bottomMask\":false,\"flip_interval\":20,\"background\":{\"image_url\":\"https://static2.tinkoff.ru/portfolio/stories/images/investicii_11-05_6.jpg\",\"gradient\":{\"colors\":[{\"hex\":\"#000000\",\"alpha\":0.6},{\"hex\":\"#000000\",\"alpha\":0},{\"hex\":\"#000000\",\"alpha\":0},{\"hex\":\"#000000\",\"alpha\":0},{\"hex\":\"#000000\",\"alpha\":0},{\"hex\":\"#000000\",\"alpha\":0},{\"hex\":\"#000000\",\"alpha\":0},{\"hex\":\"#000000\",\"alpha\":0},{\"hex\":\"#000000\",\"alpha\":0},{\"hex\":\"#000000\",\"alpha\":0}],\"direction\":\"vertical\"},\"blur\":false},\"hidden\":\"false\",\"disable_tap_zones\":false,\"log_view\":true},\"content\":[{\"guid\":\"1313e2b6-51aa-4c5e-93b9-a342f26ea69a\",\"type\":\"layout-linear\",\"properties\":{\"orientation\":\"vertical\",\"topMask\":false,\"bottomMask\":false,\"background\":{\"gradient\":{\"colors\":[{\"hex\":\"#010101\",\"alpha\":0},{\"hex\":\"#000000\",\"alpha\":0.6},{\"hex\":\"#000000\",\"alpha\":0.8}],\"direction\":\"vertical\"},\"blur\":false},\"hidden\":\"false\",\"type\":\"grouped\",\"size\":{\"height\":{\"value\":0,\"units\":\"pixels\"},\"width\":{\"value\":0,\"units\":\"pixels\"}},\"padding\":{\"top\":\"128\",\"bottom\":32,\"left\":\"16\",\"right\":\"16\"},\"margin\":{\"top\":0,\"bottom\":0,\"left\":0,\"right\":0},\"corner_radius\":{\"value\":0,\"units\":\"pixels\"},\"border\":{\"width\":0},\"alignment\":\"trailing\"},\"content\":[{\"guid\":\"6761f440-d197-476b-9901-be525d7fdc1b\",\"type\":\"layout-linear\",\"description\":\"заголовок\",\"properties\":{\"orientation\":\"horizontal\",\"topMask\":false,\"bottomMask\":false,\"background\":{\"gradient\":{\"colors\":[]},\"blur\":false},\"hidden\":\"false\",\"type\":\"grouped\",\"template_name\":\"text\",\"size\":{\"height\":{\"value\":0,\"units\":\"pixels\"},\"width\":{\"value\":0,\"units\":\"pixels\"}},\"padding\":{\"top\":0,\"bottom\":\"0\",\"left\":0,\"right\":0},\"margin\":{\"top\":0,\"bottom\":\"0\",\"left\":0,\"right\":0},\"corner_radius\":{\"value\":0,\"units\":\"pixels\"},\"border\":{\"width\":0}},\"content\":[{\"guid\":\"1a5bc7c9-e1e8-4f6b-b34a-9f9c5f781fa4\",\"type\":\"label\",\"properties\":{\"text\":\"Комиссия снижена в 10 раз \",\"font_size\":22,\"font_type\":\"bold\",\"font_color\":{\"hex\":\"#ffffff\",\"alpha\":1},\"alignment\":\"leading\",\"template_identifier\":\"text_label\",\"corner_radius\":{\"value\":0,\"units\":\"pixels\"},\"background\":{\"gradient\":{\"colors\":[],\"direction\":\"diagonal\"},\"blur\":false},\"size\":{\"height\":{\"value\":0,\"units\":\"pixels\"},\"width\":{\"value\":0,\"units\":\"pixels\"}},\"padding\":{\"top\":0,\"bottom\":0,\"left\":0,\"right\":0},\"margin\":{\"top\":\"0\",\"bottom\":\"0\",\"left\":\"0\",\"right\":\"0\"},\"border\":{\"width\":0}},\"content\":[]}]},{\"guid\":\"5cbaa5ee-e321-4c00-b996-86a6b3cafe0f\",\"type\":\"layout-linear\",\"description\":\"описание\",\"properties\":{\"orientation\":\"horizontal\",\"topMask\":false,\"bottomMask\":false,\"background\":{\"gradient\":{\"colors\":[]},\"blur\":false},\"hidden\":\"false\",\"type\":\"grouped\",\"template_name\":\"text\",\"size\":{\"height\":{\"value\":0,\"units\":\"pixels\"},\"width\":{\"value\":0,\"units\":\"pixels\"}},\"padding\":{\"top\":0,\"bottom\":0,\"left\":0,\"right\":0},\"margin\":{\"top\":8,\"bottom\":\"0\",\"left\":0,\"right\":0},\"corner_radius\":{\"value\":0,\"units\":\"pixels\"},\"border\":{\"width\":0}},\"content\":[{\"guid\":\"785f99e7-da2f-4ae2-9b71-3102a11ecfba\",\"type\":\"label\",\"properties\":{\"text\":\"До 30 июня мы снизили комиссию за\\xa0сделку до\\xa00,03% и\\xa0отменили минимальную плату 99\\xa0рублей. \\\\\\\\nСоставьте инвестиционный портфель и\\xa0экономьте на\\xa0комиссии.\",\"font_size\":17,\"font_type\":\"normal\",\"font_color\":{\"hex\":\"#ffffff\",\"alpha\":1},\"alignment\":\"leading\",\"template_identifier\":\"text_label\",\"corner_radius\":{\"value\":0,\"units\":\"pixels\"},\"background\":{\"gradient\":{\"colors\":[],\"direction\":\"diagonal\"},\"blur\":false},\"size\":{\"height\":{\"value\":0,\"units\":\"pixels\"},\"width\":{\"value\":0,\"units\":\"pixels\"}},\"padding\":{\"top\":0,\"bottom\":0,\"left\":0,\"right\":0},\"margin\":{\"top\":0,\"bottom\":0,\"left\":\"0\",\"right\":\"0\"},\"border\":{\"width\":0}},\"content\":[]}]}]}]},{\"guid\":\"d1f2d104-d02e-44a8-877a-439055d2b0a8\",\"type\":\"story-page\",\"description\":\"2\",\"properties\":{\"topMask\":false,\"bottomMask\":false,\"flip_interval\":20,\"background\":{\"image_url\":\"https://static2.tinkoff.ru/portfolio/stories/images/investicii_11-05_2.jpg\",\"gradient\":{\"colors\":[{\"hex\":\"#000000\",\"alpha\":0.6},{\"hex\":\"#000000\",\"alpha\":0},{\"hex\":\"#000000\",\"alpha\":0},{\"hex\":\"#000000\",\"alpha\":0},{\"hex\":\"#000000\",\"alpha\":0},{\"hex\":\"#000000\",\"alpha\":0},{\"hex\":\"#000000\",\"alpha\":0},{\"hex\":\"#000000\",\"alpha\":0},{\"hex\":\"#000000\",\"alpha\":0},{\"hex\":\"#000000\",\"alpha\":0}],\"direction\":\"vertical\"},\"blur\":false},\"hidden\":\"false\",\"disable_tap_zones\":false,\"log_view\":true},\"content\":[{\"guid\":\"a3e8a4d0-8fff-490e-b8bc-3714cff59cc2\",\"type\":\"layout-linear\",\"properties\":{\"orientation\":\"vertical\",\"topMask\":false,\"bottomMask\":false,\"background\":{\"gradient\":{\"colors\":[{\"hex\":\"#010101\",\"alpha\":0},{\"hex\":\"#000000\",\"alpha\":0.6},{\"hex\":\"#000000\",\"alpha\":0.8}],\"direction\":\"vertical\"},\"blur\":false},\"hidden\":\"false\",\"type\":\"grouped\",\"size\":{\"height\":{\"value\":0,\"units\":\"pixels\"},\"width\":{\"value\":0,\"units\":\"pixels\"}},\"padding\":{\"top\":\"128\",\"bottom\":32,\"left\":\"16\",\"right\":\"16\"},\"margin\":{\"top\":0,\"bottom\":0,\"left\":0,\"right\":0},\"corner_radius\":{\"value\":0,\"units\":\"pixels\"},\"border\":{\"width\":0},\"alignment\":\"trailing\"},\"content\":[{\"guid\":\"1cd0cf84-9f5a-4454-af2d-50bdae4f5909\",\"type\":\"layout-linear\",\"description\":\"заголовок\",\"properties\":{\"orientation\":\"horizontal\",\"topMask\":false,\"bottomMask\":false,\"background\":{\"gradient\":{\"colors\":[]},\"blur\":false},\"hidden\":\"false\",\"type\":\"grouped\",\"template_name\":\"text\",\"size\":{\"height\":{\"value\":0,\"units\":\"pixels\"},\"width\":{\"value\":0,\"units\":\"pixels\"}},\"padding\":{\"top\":0,\"bottom\":\"0\",\"left\":0,\"right\":0},\"margin\":{\"top\":0,\"bottom\":\"0\",\"left\":0,\"right\":0},\"corner_radius\":{\"value\":0,\"units\":\"pixels\"},\"border\":{\"width\":0}},\"content\":[{\"guid\":\"4920c8ff-b87b-485f-84e3-25b4a36c88ab\",\"type\":\"label\",\"properties\":{\"text\":\"Покупка во время работы бирж\",\"font_size\":22,\"font_type\":\"bold\",\"font_color\":{\"hex\":\"#ffffff\",\"alpha\":1},\"alignment\":\"leading\",\"template_identifier\":\"text_label\",\"corner_radius\":{\"value\":0,\"units\":\"pixels\"},\"background\":{\"gradient\":{\"colors\":[],\"direction\":\"diagonal\"},\"blur\":false},\"size\":{\"height\":{\"value\":0,\"units\":\"pixels\"},\"width\":{\"value\":0,\"units\":\"pixels\"}},\"padding\":{\"top\":0,\"bottom\":0,\"left\":0,\"right\":0},\"margin\":{\"top\":\"0\",\"bottom\":\"0\",\"left\":\"0\",\"right\":\"0\"},\"border\":{\"width\":0}},\"content\":[]}]},{\"guid\":\"fd0d7835-a14a-4cb3-afd8-5280038bf8f7\",\"type\":\"layout-linear\",\"description\":\"описание\",\"properties\":{\"orientation\":\"horizontal\",\"topMask\":false,\"bottomMask\":false,\"background\":{\"gradient\":{\"colors\":[]},\"blur\":false},\"hidden\":\"false\",\"type\":\"grouped\",\"template_name\":\"text\",\"size\":{\"height\":{\"value\":0,\"units\":\"pixels\"},\"width\":{\"value\":0,\"units\":\"pixels\"}},\"padding\":{\"top\":0,\"bottom\":0,\"left\":0,\"right\":0},\"margin\":{\"top\":8,\"bottom\":\"0\",\"left\":0,\"right\":0},\"corner_radius\":{\"value\":0,\"units\":\"pixels\"},\"border\":{\"width\":0}},\"content\":[{\"guid\":\"ff65fc57-1cc7-461c-a181-40100f9aea86\",\"type\":\"label\",\"properties\":{\"text\":\"Теперь с помощью карты можно покупать бумаги в\\xa0любое время, пока открыта биржа. Не\\xa0нужно заранее держать деньги на\\xa0брокерском счете.\",\"font_size\":17,\"font_type\":\"normal\",\"font_color\":{\"hex\":\"#ffffff\",\"alpha\":1},\"alignment\":\"leading\",\"template_identifier\":\"text_label\",\"corner_radius\":{\"value\":0,\"units\":\"pixels\"},\"background\":{\"gradient\":{\"colors\":[],\"direction\":\"diagonal\"},\"blur\":false},\"size\":{\"height\":{\"value\":0,\"units\":\"pixels\"},\"width\":{\"value\":0,\"units\":\"pixels\"}},\"padding\":{\"top\":0,\"bottom\":0,\"left\":0,\"right\":0},\"margin\":{\"top\":0,\"bottom\":0,\"left\":\"0\",\"right\":\"0\"},\"border\":{\"width\":0}},\"content\":[]}]}]}]},{\"guid\":\"ccdbcfa0-0803-43fb-a520-ccb753207c9b\",\"type\":\"story-page\",\"description\":\"3\",\"properties\":{\"topMask\":false,\"bottomMask\":false,\"flip_interval\":20,\"background\":{\"image_url\":\"https://static2.tinkoff.ru/portfolio/stories/images/investicii_11-05_31.jpg\",\"gradient\":{\"colors\":[{\"hex\":\"#000000\",\"alpha\":0.6},{\"hex\":\"#000000\",\"alpha\":0},{\"hex\":\"#000000\",\"alpha\":0},{\"hex\":\"#000000\",\"alpha\":0},{\"hex\":\"#000000\",\"alpha\":0},{\"hex\":\"#000000\",\"alpha\":0},{\"hex\":\"#000000\",\"alpha\":0},{\"hex\":\"#000000\",\"alpha\":0},{\"hex\":\"#000000\",\"alpha\":0},{\"hex\":\"#000000\",\"alpha\":0}],\"direction\":\"vertical\"},\"blur\":false},\"hidden\":\"false\",\"disable_tap_zones\":false,\"log_view\":true},\"content\":[{\"guid\":\"68c373b5-242e-4250-a060-0025dee9142e\",\"type\":\"layout-linear\",\"properties\":{\"orientation\":\"vertical\",\"topMask\":false,\"bottomMask\":false,\"background\":{\"gradient\":{\"colors\":[{\"hex\":\"#010101\",\"alpha\":0},{\"hex\":\"#000000\",\"alpha\":0.6},{\"hex\":\"#000000\",\"alpha\":0.8}],\"direction\":\"vertical\"},\"blur\":false},\"hidden\":\"false\",\"type\":\"grouped\",\"size\":{\"height\":{\"value\":0,\"units\":\"pixels\"},\"width\":{\"value\":0,\"units\":\"pixels\"}},\"padding\":{\"top\":\"128\",\"bottom\":32,\"left\":\"16\",\"right\":\"16\"},\"margin\":{\"top\":0,\"bottom\":0,\"left\":0,\"right\":0},\"corner_radius\":{\"value\":0,\"units\":\"pixels\"},\"border\":{\"width\":0},\"alignment\":\"trailing\"},\"content\":[{\"guid\":\"7dea4e08-300b-4a23-8515-68ebc4b8bae1\",\"type\":\"layout-linear\",\"description\":\"заголовок\",\"properties\":{\"orientation\":\"horizontal\",\"topMask\":false,\"bottomMask\":false,\"background\":{\"gradient\":{\"colors\":[]},\"blur\":false},\"hidden\":\"false\",\"type\":\"grouped\",\"template_name\":\"text\",\"size\":{\"height\":{\"value\":0,\"units\":\"pixels\"},\"width\":{\"value\":0,\"units\":\"pixels\"}},\"padding\":{\"top\":0,\"bottom\":\"0\",\"left\":0,\"right\":0},\"margin\":{\"top\":0,\"bottom\":\"0\",\"left\":0,\"right\":0},\"corner_radius\":{\"value\":0,\"units\":\"pixels\"},\"border\":{\"width\":0}},\"content\":[{\"guid\":\"564f0968-168c-4e26-8260-50e16d84b69c\",\"type\":\"label\",\"properties\":{\"text\":\"Более 100 новых бумаг\",\"font_size\":22,\"font_type\":\"bold\",\"font_color\":{\"hex\":\"#ffffff\",\"alpha\":1},\"alignment\":\"leading\",\"template_identifier\":\"text_label\",\"corner_radius\":{\"value\":0,\"units\":\"pixels\"},\"background\":{\"gradient\":{\"colors\":[],\"direction\":\"diagonal\"},\"blur\":false},\"size\":{\"height\":{\"value\":0,\"units\":\"pixels\"},\"width\":{\"value\":0,\"units\":\"pixels\"}},\"padding\":{\"top\":0,\"bottom\":0,\"left\":0,\"right\":0},\"margin\":{\"top\":\"0\",\"bottom\":\"0\",\"left\":\"0\",\"right\":\"0\"},\"border\":{\"width\":0}},\"content\":[]}]},{\"guid\":\"1c52fef3-59d2-4827-a45e-55fa3518429f\",\"type\":\"layout-linear\",\"description\":\"описание\",\"properties\":{\"orientation\":\"horizontal\",\"topMask\":false,\"bottomMask\":false,\"background\":{\"gradient\":{\"colors\":[]},\"blur\":false},\"hidden\":\"false\",\"type\":\"grouped\",\"template_name\":\"text\",\"size\":{\"height\":{\"value\":0,\"units\":\"pixels\"},\"width\":{\"value\":0,\"units\":\"pixels\"}},\"padding\":{\"top\":0,\"bottom\":0,\"left\":0,\"right\":0},\"margin\":{\"top\":8,\"bottom\":\"0\",\"left\":0,\"right\":0},\"corner_radius\":{\"value\":0,\"units\":\"pixels\"},\"border\":{\"width\":0}},\"content\":[{\"guid\":\"fdedf11a-0580-4894-8618-1361d51e1191\",\"type\":\"label\",\"properties\":{\"text\":\"В приложении появились новые акции, облигации и\\xa0несколько десятков ОФЗ с\\xa0Московской и Санкт-Петербургской биржи. Возможностей для\\xa0инвестиций стало больше.\",\"font_size\":17,\"font_type\":\"normal\",\"font_color\":{\"hex\":\"#ffffff\",\"alpha\":1},\"alignment\":\"leading\",\"template_identifier\":\"text_label\",\"corner_radius\":{\"value\":0,\"units\":\"pixels\"},\"background\":{\"gradient\":{\"colors\":[],\"direction\":\"diagonal\"},\"blur\":false},\"size\":{\"height\":{\"value\":0,\"units\":\"pixels\"},\"width\":{\"value\":0,\"units\":\"pixels\"}},\"padding\":{\"top\":0,\"bottom\":0,\"left\":0,\"right\":0},\"margin\":{\"top\":0,\"bottom\":0,\"left\":\"0\",\"right\":\"0\"},\"border\":{\"width\":0}},\"content\":[]}]}]}]},{\"guid\":\"7add8033-714d-4f24-b5ce-19d7ecc29a85\",\"type\":\"story-page\",\"description\":\"4\",\"properties\":{\"topMask\":false,\"bottomMask\":false,\"flip_interval\":20,\"background\":{\"image_url\":\"https://static2.tinkoff.ru/portfolio/stories/images/investicii_11-05_4.jpg\",\"gradient\":{\"colors\":[{\"hex\":\"#000000\",\"alpha\":0.6},{\"hex\":\"#000000\",\"alpha\":0},{\"hex\":\"#000000\",\"alpha\":0},{\"hex\":\"#000000\",\"alpha\":0},{\"hex\":\"#000000\",\"alpha\":0},{\"hex\":\"#000000\",\"alpha\":0},{\"hex\":\"#000000\",\"alpha\":0},{\"hex\":\"#000000\",\"alpha\":0},{\"hex\":\"#000000\",\"alpha\":0},{\"hex\":\"#000000\",\"alpha\":0}],\"direction\":\"vertical\"},\"blur\":false},\"hidden\":\"false\",\"disable_tap_zones\":false,\"log_view\":true},\"content\":[{\"guid\":\"bd1bd271-e85d-454e-b079-96dfef0ee371\",\"type\":\"layout-linear\",\"properties\":{\"orientation\":\"vertical\",\"topMask\":false,\"bottomMask\":false,\"background\":{\"gradient\":{\"colors\":[{\"hex\":\"#010101\",\"alpha\":0},{\"hex\":\"#000000\",\"alpha\":0.6},{\"hex\":\"#000000\",\"alpha\":0.8}],\"direction\":\"vertical\"},\"blur\":false},\"hidden\":\"false\",\"type\":\"grouped\",\"size\":{\"height\":{\"value\":0,\"units\":\"pixels\"},\"width\":{\"value\":0,\"units\":\"pixels\"}},\"padding\":{\"top\":\"128\",\"bottom\":32,\"left\":\"16\",\"right\":\"16\"},\"margin\":{\"top\":0,\"bottom\":0,\"left\":0,\"right\":0},\"corner_radius\":{\"value\":0,\"units\":\"pixels\"},\"border\":{\"width\":0},\"alignment\":\"trailing\"},\"content\":[{\"guid\":\"525e7153-dfb2-4f37-9ec9-5cba4a80f8d8\",\"type\":\"layout-linear\",\"description\":\"заголовок\",\"properties\":{\"orientation\":\"horizontal\",\"topMask\":false,\"bottomMask\":false,\"background\":{\"gradient\":{\"colors\":[]},\"blur\":false},\"hidden\":\"false\",\"type\":\"grouped\",\"template_name\":\"text\",\"size\":{\"height\":{\"value\":0,\"units\":\"pixels\"},\"width\":{\"value\":0,\"units\":\"pixels\"}},\"padding\":{\"top\":0,\"bottom\":\"0\",\"left\":0,\"right\":0},\"margin\":{\"top\":0,\"bottom\":\"0\",\"left\":0,\"right\":0},\"corner_radius\":{\"value\":0,\"units\":\"pixels\"},\"border\":{\"width\":0}},\"content\":[{\"guid\":\"28a62853-7568-49d3-a350-9b0a4d6d3197\",\"type\":\"label\",\"properties\":{\"text\":\"Круглосуточный вывод на\\xa0карту\",\"font_size\":22,\"font_type\":\"bold\",\"font_color\":{\"hex\":\"#ffffff\",\"alpha\":1},\"alignment\":\"leading\",\"template_identifier\":\"text_label\",\"corner_radius\":{\"value\":0,\"units\":\"pixels\"},\"background\":{\"gradient\":{\"colors\":[],\"direction\":\"diagonal\"},\"blur\":false},\"size\":{\"height\":{\"value\":0,\"units\":\"pixels\"},\"width\":{\"value\":0,\"units\":\"pixels\"}},\"padding\":{\"top\":0,\"bottom\":0,\"left\":0,\"right\":0},\"margin\":{\"top\":\"0\",\"bottom\":\"0\",\"left\":\"0\",\"right\":\"0\"},\"border\":{\"width\":0}},\"content\":[]}]},{\"guid\":\"eea184f4-212d-4ceb-91c1-eb62ec828650\",\"type\":\"layout-linear\",\"description\":\"описание\",\"properties\":{\"orientation\":\"horizontal\",\"topMask\":false,\"bottomMask\":false,\"background\":{\"gradient\":{\"colors\":[]},\"blur\":false},\"hidden\":\"false\",\"type\":\"grouped\",\"template_name\":\"text\",\"size\":{\"height\":{\"value\":0,\"units\":\"pixels\"},\"width\":{\"value\":0,\"units\":\"pixels\"}},\"padding\":{\"top\":0,\"bottom\":0,\"left\":0,\"right\":0},\"margin\":{\"top\":8,\"bottom\":\"0\",\"left\":0,\"right\":0},\"corner_radius\":{\"value\":0,\"units\":\"pixels\"},\"border\":{\"width\":0}},\"content\":[{\"guid\":\"a74dcfc2-a70d-4d50-9d1f-0503382e5bb6\",\"type\":\"label\",\"properties\":{\"text\":\"Больше не нужно ждать два\\xa0дня для\\xa0вывода. Теперь деньги с\\xa0брокерского счета доходят мгновенно. Даже в\\xa0ночь с\\xa0субботы на\\xa0воскресенье.\",\"font_size\":17,\"font_type\":\"normal\",\"font_color\":{\"hex\":\"#ffffff\",\"alpha\":1},\"alignment\":\"leading\",\"template_identifier\":\"text_label\",\"corner_radius\":{\"value\":0,\"units\":\"pixels\"},\"background\":{\"gradient\":{\"colors\":[],\"direction\":\"diagonal\"},\"blur\":false},\"size\":{\"height\":{\"value\":0,\"units\":\"pixels\"},\"width\":{\"value\":0,\"units\":\"pixels\"}},\"padding\":{\"top\":0,\"bottom\":0,\"left\":0,\"right\":0},\"margin\":{\"top\":0,\"bottom\":0,\"left\":\"0\",\"right\":\"0\"},\"border\":{\"width\":0}},\"content\":[]}]}]}]},{\"guid\":\"d0eea898-ef5e-4c35-b209-ea7005679f7a\",\"type\":\"story-page\",\"description\":\"5\",\"properties\":{\"topMask\":false,\"bottomMask\":false,\"flip_interval\":20,\"background\":{\"image_url\":\"https://static2.tinkoff.ru/portfolio/stories/images/investicii_11-05_5.jpg\",\"gradient\":{\"colors\":[{\"hex\":\"#000000\",\"alpha\":0.6},{\"hex\":\"#000000\",\"alpha\":0},{\"hex\":\"#000000\",\"alpha\":0},{\"hex\":\"#000000\",\"alpha\":0},{\"hex\":\"#000000\",\"alpha\":0},{\"hex\":\"#000000\",\"alpha\":0},{\"hex\":\"#000000\",\"alpha\":0},{\"hex\":\"#000000\",\"alpha\":0},{\"hex\":\"#000000\",\"alpha\":0},{\"hex\":\"#000000\",\"alpha\":0}],\"direction\":\"vertical\"},\"blur\":false},\"hidden\":\"false\",\"disable_tap_zones\":false,\"log_view\":true},\"content\":[{\"guid\":\"78d7f343-b7b5-4467-9f9a-eee138ba5ea6\",\"type\":\"layout-linear\",\"properties\":{\"orientation\":\"vertical\",\"topMask\":false,\"bottomMask\":false,\"background\":{\"gradient\":{\"colors\":[{\"hex\":\"#010101\",\"alpha\":0},{\"hex\":\"#000000\",\"alpha\":0.6},{\"hex\":\"#000000\",\"alpha\":0.8}],\"direction\":\"vertical\"},\"blur\":false},\"hidden\":\"false\",\"type\":\"grouped\",\"size\":{\"height\":{\"value\":0,\"units\":\"pixels\"},\"width\":{\"value\":0,\"units\":\"pixels\"}},\"padding\":{\"top\":\"128\",\"bottom\":32,\"left\":\"16\",\"right\":\"16\"},\"margin\":{\"top\":0,\"bottom\":0,\"left\":0,\"right\":0},\"corner_radius\":{\"value\":0,\"units\":\"pixels\"},\"border\":{\"width\":0},\"alignment\":\"trailing\"},\"content\":[{\"guid\":\"e031dd4d-d5e0-4d48-a621-a10daf30adb7\",\"type\":\"layout-linear\",\"description\":\"заголовок\",\"properties\":{\"orientation\":\"horizontal\",\"topMask\":false,\"bottomMask\":false,\"background\":{\"gradient\":{\"colors\":[]},\"blur\":false},\"hidden\":\"false\",\"type\":\"grouped\",\"template_name\":\"text\",\"size\":{\"height\":{\"value\":0,\"units\":\"pixels\"},\"width\":{\"value\":0,\"units\":\"pixels\"}},\"padding\":{\"top\":0,\"bottom\":\"0\",\"left\":0,\"right\":0},\"margin\":{\"top\":0,\"bottom\":\"0\",\"left\":0,\"right\":0},\"corner_radius\":{\"value\":0,\"units\":\"pixels\"},\"border\":{\"width\":0}},\"content\":[{\"guid\":\"bfd8d7b2-cc98-4c0e-9fe0-08e8c8ed99f0\",\"type\":\"label\",\"properties\":{\"text\":\"Налоги онлайн\",\"font_size\":22,\"font_type\":\"bold\",\"font_color\":{\"hex\":\"#ffffff\",\"alpha\":1},\"alignment\":\"leading\",\"template_identifier\":\"text_label\",\"corner_radius\":{\"value\":0,\"units\":\"pixels\"},\"background\":{\"gradient\":{\"colors\":[],\"direction\":\"diagonal\"},\"blur\":false},\"size\":{\"height\":{\"value\":0,\"units\":\"pixels\"},\"width\":{\"value\":0,\"units\":\"pixels\"}},\"padding\":{\"top\":0,\"bottom\":0,\"left\":0,\"right\":0},\"margin\":{\"top\":\"0\",\"bottom\":\"0\",\"left\":\"0\",\"right\":\"0\"},\"border\":{\"width\":0}},\"content\":[]}]},{\"guid\":\"9405a5fa-41e6-472b-9018-17594ff29e45\",\"type\":\"layout-linear\",\"description\":\"описание\",\"properties\":{\"orientation\":\"horizontal\",\"topMask\":false,\"bottomMask\":false,\"background\":{\"gradient\":{\"colors\":[]},\"blur\":false},\"hidden\":\"false\",\"type\":\"grouped\",\"template_name\":\"text\",\"size\":{\"height\":{\"value\":0,\"units\":\"pixels\"},\"width\":{\"value\":0,\"units\":\"pixels\"}},\"padding\":{\"top\":0,\"bottom\":0,\"left\":0,\"right\":0},\"margin\":{\"top\":8,\"bottom\":\"0\",\"left\":0,\"right\":0},\"corner_radius\":{\"value\":0,\"units\":\"pixels\"},\"border\":{\"width\":0}},\"content\":[{\"guid\":\"33eaa8af-af92-4f89-936b-0687ce6762fe\",\"type\":\"label\",\"properties\":{\"text\":\"Налоги не станут неожиданностью. Покажем, сколько налога спишут, прямо на\\xa0экране, когда\\xa0будете выводить деньги. \",\"font_size\":17,\"font_type\":\"normal\",\"font_color\":{\"hex\":\"#ffffff\",\"alpha\":1},\"alignment\":\"leading\",\"template_identifier\":\"text_label\",\"corner_radius\":{\"value\":0,\"units\":\"pixels\"},\"background\":{\"gradient\":{\"colors\":[],\"direction\":\"diagonal\"},\"blur\":false},\"size\":{\"height\":{\"value\":0,\"units\":\"pixels\"},\"width\":{\"value\":0,\"units\":\"pixels\"}},\"padding\":{\"top\":0,\"bottom\":0,\"left\":0,\"right\":0},\"margin\":{\"top\":0,\"bottom\":0,\"left\":\"0\",\"right\":\"0\"},\"border\":{\"width\":0}},\"content\":[]}]}]}]},{\"guid\":\"34956115-c7d7-4799-bdc9-3397f7bb632c\",\"type\":\"story-page\",\"description\":\"7\",\"properties\":{\"topMask\":false,\"bottomMask\":false,\"flip_interval\":20,\"background\":{\"image_url\":\"https://static2.tinkoff.ru/portfolio/stories/images/investicii_11-05_7.jpg\",\"gradient\":{\"colors\":[{\"hex\":\"#000000\",\"alpha\":0.6},{\"hex\":\"#000000\",\"alpha\":0},{\"hex\":\"#000000\",\"alpha\":0},{\"hex\":\"#000000\",\"alpha\":0},{\"hex\":\"#000000\",\"alpha\":0},{\"hex\":\"#000000\",\"alpha\":0},{\"hex\":\"#000000\",\"alpha\":0},{\"hex\":\"#000000\",\"alpha\":0},{\"hex\":\"#000000\",\"alpha\":0},{\"hex\":\"#000000\",\"alpha\":0}],\"direction\":\"vertical\"},\"blur\":false},\"hidden\":\"false\",\"disable_tap_zones\":false,\"log_view\":true},\"content\":[{\"guid\":\"e9e7857b-ff1d-40d9-99bb-1a9873d35650\",\"type\":\"layout-linear\",\"properties\":{\"orientation\":\"vertical\",\"topMask\":false,\"bottomMask\":false,\"background\":{\"gradient\":{\"colors\":[{\"hex\":\"#010101\",\"alpha\":0},{\"hex\":\"#000000\",\"alpha\":0.6},{\"hex\":\"#000000\",\"alpha\":0.8}],\"direction\":\"vertical\"},\"blur\":false},\"hidden\":\"false\",\"type\":\"grouped\",\"size\":{\"height\":{\"value\":0,\"units\":\"pixels\"},\"width\":{\"value\":0,\"units\":\"pixels\"}},\"padding\":{\"top\":\"128\",\"bottom\":32,\"left\":\"16\",\"right\":\"16\"},\"margin\":{\"top\":0,\"bottom\":0,\"left\":0,\"right\":0},\"corner_radius\":{\"value\":0,\"units\":\"pixels\"},\"border\":{\"width\":0},\"alignment\":\"trailing\"},\"content\":[{\"guid\":\"bf92e974-1bcf-475a-af2e-21ef7aa6eb4a\",\"type\":\"layout-linear\",\"description\":\"заголовок\",\"properties\":{\"orientation\":\"horizontal\",\"topMask\":false,\"bottomMask\":false,\"background\":{\"gradient\":{\"colors\":[]},\"blur\":false},\"hidden\":\"false\",\"type\":\"grouped\",\"template_name\":\"text\",\"size\":{\"height\":{\"value\":0,\"units\":\"pixels\"},\"width\":{\"value\":0,\"units\":\"pixels\"}},\"padding\":{\"top\":0,\"bottom\":\"0\",\"left\":0,\"right\":0},\"margin\":{\"top\":0,\"bottom\":\"0\",\"left\":0,\"right\":0},\"corner_radius\":{\"value\":0,\"units\":\"pixels\"},\"border\":{\"width\":0}},\"content\":[{\"guid\":\"4c4cb8a9-094b-49f5-b063-cb7b7947a35c\",\"type\":\"label\",\"properties\":{\"text\":\"Как воспользоваться\",\"font_size\":22,\"font_type\":\"bold\",\"font_color\":{\"hex\":\"#ffffff\",\"alpha\":1},\"alignment\":\"leading\",\"template_identifier\":\"text_label\",\"corner_radius\":{\"value\":0,\"units\":\"pixels\"},\"background\":{\"gradient\":{\"colors\":[],\"direction\":\"diagonal\"},\"blur\":false},\"size\":{\"height\":{\"value\":0,\"units\":\"pixels\"},\"width\":{\"value\":0,\"units\":\"pixels\"}},\"padding\":{\"top\":0,\"bottom\":0,\"left\":0,\"right\":0},\"margin\":{\"top\":\"0\",\"bottom\":\"0\",\"left\":\"0\",\"right\":\"0\"},\"border\":{\"width\":0}},\"content\":[]}]},{\"guid\":\"b9108f53-5da7-4311-ae28-3532abec5890\",\"type\":\"layout-linear\",\"description\":\"описание\",\"properties\":{\"orientation\":\"horizontal\",\"topMask\":false,\"bottomMask\":false,\"background\":{\"gradient\":{\"colors\":[]},\"blur\":false},\"hidden\":\"false\",\"type\":\"grouped\",\"template_name\":\"text\",\"size\":{\"height\":{\"value\":0,\"units\":\"pixels\"},\"width\":{\"value\":0,\"units\":\"pixels\"}},\"padding\":{\"top\":0,\"bottom\":0,\"left\":0,\"right\":0},\"margin\":{\"top\":8,\"bottom\":\"0\",\"left\":0,\"right\":0},\"corner_radius\":{\"value\":0,\"units\":\"pixels\"},\"border\":{\"width\":0}},\"content\":[{\"guid\":\"7aaac1a7-24b2-46dd-9b89-6bb14961aaaf\",\"type\":\"label\",\"properties\":{\"text\":\"Войдите в личный кабинет и\\xa0активируйте обновленный счет одной кнопкой. Подготовим счет за\\xa02 рабочих дня и\\xa0пришлем СМС.\",\"font_size\":17,\"font_type\":\"normal\",\"font_color\":{\"hex\":\"#ffffff\",\"alpha\":1},\"alignment\":\"leading\",\"template_identifier\":\"text_label\",\"corner_radius\":{\"value\":0,\"units\":\"pixels\"},\"background\":{\"gradient\":{\"colors\":[],\"direction\":\"diagonal\"},\"blur\":false},\"size\":{\"height\":{\"value\":0,\"units\":\"pixels\"},\"width\":{\"value\":0,\"units\":\"pixels\"}},\"padding\":{\"top\":0,\"bottom\":0,\"left\":0,\"right\":0},\"margin\":{\"top\":0,\"bottom\":0,\"left\":\"0\",\"right\":\"0\"},\"border\":{\"width\":0}},\"content\":[]}]},{\"guid\":\"6d9e32b7-100b-4352-a7f0-25685ab5309d\",\"type\":\"layout-linear\",\"properties\":{\"orientation\":\"horizontal\",\"topMask\":false,\"bottomMask\":false,\"background\":{\"gradient\":{\"colors\":[],\"direction\":\"diagonal\"},\"blur\":false},\"hidden\":\"false\",\"type\":\"grouped\",\"size\":{\"height\":{\"value\":0,\"units\":\"pixels\"},\"width\":{\"value\":0,\"units\":\"pixels\"}},\"padding\":{\"top\":0,\"bottom\":0,\"left\":0,\"right\":0},\"margin\":{\"top\":16,\"bottom\":0,\"left\":0,\"right\":0},\"corner_radius\":{\"value\":0,\"units\":\"pixels\"},\"border\":{\"width\":0},\"alignment\":\"trailing\"},\"content\":[{\"guid\":\"2e628110-ef51-4455-a29d-6068f013843c\",\"type\":\"label\",\"properties\":{\"text\":\"Активировать счет\",\"font_size\":15,\"font_type\":\"normal\",\"font_color\":{\"hex\":\"#000000\",\"alpha\":1},\"alignment\":\"center\",\"corner_radius\":{\"value\":\"50\",\"units\":\"percent\"},\"background\":{\"gradient\":{\"colors\":[{\"hex\":\"#ffdd2c\",\"alpha\":1}],\"direction\":\"diagonal\"},\"blur\":false},\"size\":{\"height\":{\"value\":\"36\",\"units\":\"pixels\"},\"width\":{\"value\":\"0\",\"units\":\"pixels\"}},\"padding\":{\"top\":\"0\",\"bottom\":\"0\",\"left\":\"32\",\"right\":\"32\"},\"margin\":{\"top\":\"0\",\"bottom\":\"0\",\"left\":\"0\",\"right\":\"0\"},\"border\":{\"width\":0},\"actions\":[{\"type\":\"common_request\",\"parameters\":\"{\\\\\\\\\"url\\\\\\\\\":\\\\\\\\\"{{cta_url}}\\\\\\\\\",\\\\\\\\\"parameters\\\\\\\\\":[{\\\\\\\\\"key\\\\\\\\\":\\\\\\\\\"group\\\\\\\\\",\\\\\\\\\"value\\\\\\\\\":\\\\\\\\\"click2button\\\\\\\\\",\\\\\\\\\"type\\\\\\\\\":\\\\\\\\\"preset\\\\\\\\\"},{\\\\\\\\\"key\\\\\\\\\":\\\\\\\\\"event\\\\\\\\\",\\\\\\\\\"value\\\\\\\\\":\\\\\\\\\"click2link\\\\\\\\\",\\\\\\\\\"type\\\\\\\\\":\\\\\\\\\"preset\\\\\\\\\"},{\\\\\\\\\"key\\\\\\\\\":\\\\\\\\\"eventid\\\\\\\\\",\\\\\\\\\"value\\\\\\\\\":\\\\\\\\\"1\\\\\\\\\",\\\\\\\\\"type\\\\\\\\\":\\\\\\\\\"preset\\\\\\\\\"}]}\"},{\"type\":\"web_view\",\"parameters\":\"{\\\\\\\\\"url\\\\\\\\\":\\\\\\\\\"https://tinkoff-invest.onelink.me/2065005593?pid=mb_x_investing&c=stories_ti20&af_cost_model=xsl.unp&af_dp=https%3A%2F%2Fwww.tinkoff.ru%2Finvest%2F&af_web_dp=https%3A%2F%2Fwww.tinkoff.ru%2Finvest%2F\\\\\\\\\"}\"}]}}]}]}]}]}'"
      ]
     },
     "execution_count": 105,
     "metadata": {},
     "output_type": "execute_result"
    }
   ],
   "source": [
    "data.loc[2].story_json"
   ]
  },
  {
   "cell_type": "code",
   "execution_count": 133,
   "metadata": {},
   "outputs": [],
   "source": [
    "obj = json.loads(data.loc[1].story_json.replace(\"\\\\\\\\\", \"\\\\\"))"
   ]
  },
  {
   "cell_type": "code",
   "execution_count": 134,
   "metadata": {},
   "outputs": [
    {
     "data": {
      "text/plain": [
       "dict_keys(['guid', 'type', 'description', 'properties', 'content'])"
      ]
     },
     "execution_count": 134,
     "metadata": {},
     "output_type": "execute_result"
    }
   ],
   "source": [
    "obj.keys()"
   ]
  },
  {
   "cell_type": "code",
   "execution_count": 135,
   "metadata": {},
   "outputs": [
    {
     "data": {
      "text/plain": [
       "'root'"
      ]
     },
     "execution_count": 135,
     "metadata": {},
     "output_type": "execute_result"
    }
   ],
   "source": [
    "obj[\"type\"]"
   ]
  },
  {
   "cell_type": "code",
   "execution_count": 136,
   "metadata": {},
   "outputs": [
    {
     "data": {
      "text/plain": [
       "'https://wiki.tcsbank.ru/pages/viewpage.action?pageId=276651383'"
      ]
     },
     "execution_count": 136,
     "metadata": {},
     "output_type": "execute_result"
    }
   ],
   "source": [
    "obj[\"description\"]"
   ]
  },
  {
   "cell_type": "code",
   "execution_count": 137,
   "metadata": {},
   "outputs": [
    {
     "data": {
      "text/plain": [
       "{'name': 'Пополнить «Стрелку»',\n",
       " 'background': {'gradient': {'colors': [], 'direction': 'vertical'},\n",
       "  'blur': False},\n",
       " 'icon_url': 'https://static2.tinkoff.ru/portfolio/stories/icons/strelka_icon_18-07_zahod.png',\n",
       " 'icon_background': {'gradient': {'colors': [{'hex': '#b8a1e0', 'alpha': 1},\n",
       "    {'hex': '#00bee0', 'alpha': 1}],\n",
       "   'direction': 'vertical'},\n",
       "  'blur': False},\n",
       " 'hide_page_status': False}"
      ]
     },
     "execution_count": 137,
     "metadata": {},
     "output_type": "execute_result"
    }
   ],
   "source": [
    "obj[\"properties\"]"
   ]
  },
  {
   "cell_type": "code",
   "execution_count": 112,
   "metadata": {},
   "outputs": [
    {
     "data": {
      "text/plain": [
       "'3482206b-d223-4aec-92ba-0150055cd68a'"
      ]
     },
     "execution_count": 112,
     "metadata": {},
     "output_type": "execute_result"
    }
   ],
   "source": [
    "obj[\"guid\"]"
   ]
  },
  {
   "cell_type": "code",
   "execution_count": 148,
   "metadata": {},
   "outputs": [
    {
     "data": {
      "application/vnd.jupyter.widget-view+json": {
       "model_id": "5d1287a64cfd4a7cbb02b7d3289fb151",
       "version_major": 2,
       "version_minor": 0
      },
      "text/plain": [
       "HBox(children=(IntProgress(value=1, bar_style='info', max=1), HTML(value='')))"
      ]
     },
     "metadata": {},
     "output_type": "display_data"
    },
    {
     "name": "stdout",
     "output_type": "stream",
     "text": [
      "\n"
     ]
    }
   ],
   "source": [
    "features = {\n",
    "    \"trash\": {}\n",
    "}\n",
    "bad_rows = 0\n",
    "\n",
    "def parse(columns):\n",
    "    now = obj\n",
    "    last = \"trash\"\n",
    "    \n",
    "    for column in columns:\n",
    "        last = column\n",
    "        if column in now:\n",
    "            now = now[column]\n",
    "        else:\n",
    "            now = \"\"\n",
    "            break\n",
    "            \n",
    "    if last not in features:\n",
    "        features[column] = {}\n",
    "    \n",
    "    features[last][key] = now\n",
    "    \n",
    "\n",
    "obj = None            \n",
    "\n",
    "for index, row in tqdm_notebook(data.iterrows()):\n",
    "    try:\n",
    "        obj = json.loads(row.story_json.replace(\"\\\\\\\\\", \"\\\\\"))\n",
    "\n",
    "        key = row.story_id\n",
    "        \n",
    "        parse([\"description\"])\n",
    "        \n",
    "        parse([\"properties\", \"name\"])\n",
    "        \n",
    "        parse([\"properties\", \"background\", \"gradient\", \"direction\"])\n",
    "        \n",
    "            \n",
    "    except:\n",
    "        raise\n",
    "        bad_rows+=1\n",
    "        pass"
   ]
  },
  {
   "cell_type": "code",
   "execution_count": 149,
   "metadata": {},
   "outputs": [
    {
     "data": {
      "text/plain": [
       "0"
      ]
     },
     "execution_count": 149,
     "metadata": {},
     "output_type": "execute_result"
    }
   ],
   "source": [
    "bad_rows"
   ]
  },
  {
   "cell_type": "code",
   "execution_count": null,
   "metadata": {},
   "outputs": [],
   "source": []
  },
  {
   "cell_type": "code",
   "execution_count": null,
   "metadata": {},
   "outputs": [],
   "source": []
  }
 ],
 "metadata": {
  "kernelspec": {
   "display_name": "Python 3",
   "language": "python",
   "name": "python3"
  },
  "language_info": {
   "codemirror_mode": {
    "name": "ipython",
    "version": 3
   },
   "file_extension": ".py",
   "mimetype": "text/x-python",
   "name": "python",
   "nbconvert_exporter": "python",
   "pygments_lexer": "ipython3",
   "version": "3.7.3+"
  }
 },
 "nbformat": 4,
 "nbformat_minor": 2
}
